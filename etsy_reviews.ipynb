{
 "cells": [
  {
   "cell_type": "markdown",
   "source": [
    "# Import necessary libraries"
   ],
   "metadata": {}
  },
  {
   "cell_type": "code",
   "execution_count": 132,
   "source": [
    "import requests\r\n",
    "import json\r\n",
    "import pandas as pd"
   ],
   "outputs": [],
   "metadata": {}
  },
  {
   "cell_type": "markdown",
   "source": [
    "# Authenticate API key"
   ],
   "metadata": {}
  },
  {
   "cell_type": "code",
   "execution_count": 133,
   "source": [
    "header = {\r\n",
    "    \"x-api-key\": \"API_KEY\",\r\n",
    "    }"
   ],
   "outputs": [],
   "metadata": {}
  },
  {
   "cell_type": "code",
   "execution_count": 134,
   "source": [
    "\r\n",
    "shop_id = 8752191\r\n",
    "response = requests.get(f\"https://openapi.etsy.com/v3/application/shops/{shop_id}/reviews\", headers=header, params={\"limit\": \"100\", \"offset\": \"0\"})\r\n",
    "print(response.status_code)"
   ],
   "outputs": [
    {
     "output_type": "stream",
     "name": "stdout",
     "text": [
      "200\n"
     ]
    }
   ],
   "metadata": {}
  },
  {
   "cell_type": "markdown",
   "source": [
    "# Load the Reviews Data"
   ],
   "metadata": {}
  },
  {
   "cell_type": "code",
   "execution_count": 135,
   "source": [
    "reviews_data = response.json()\r\n",
    "results = reviews_data[\"results\"]"
   ],
   "outputs": [],
   "metadata": {}
  },
  {
   "cell_type": "markdown",
   "source": [
    "# Get listings"
   ],
   "metadata": {}
  },
  {
   "cell_type": "code",
   "execution_count": 136,
   "source": [
    "# Get all listing_id for each review to see what the review for each product was\r\n",
    "listing_id = []\r\n",
    "for id in results:\r\n",
    "    listing_id.append(id[\"listing_id\"])"
   ],
   "outputs": [],
   "metadata": {}
  },
  {
   "cell_type": "code",
   "execution_count": 137,
   "source": [
    "\r\n",
    "# make api call to get the product \r\n",
    "product_title = []\r\n",
    "for id in listing_id:\r\n",
    "    response = requests.get(f\"https://openapi.etsy.com/v3/application/listings/{id}\", headers=header)\r\n",
    "    product_listing = response.json()\r\n",
    "    product_title.append(product_listing[\"title\"])\r\n",
    "    # print(response.status_code)"
   ],
   "outputs": [],
   "metadata": {}
  },
  {
   "cell_type": "markdown",
   "source": [
    "# Collect the reviews & ratings"
   ],
   "metadata": {}
  },
  {
   "cell_type": "code",
   "execution_count": 138,
   "source": [
    "reviews_list = []\r\n",
    "ratings_list = []\r\n",
    "for index, result in enumerate(results):\r\n",
    "    reviews = results[index][\"review\"]\r\n",
    "    ratings = results[index][\"rating\"]\r\n",
    "    reviews_list.append(reviews)\r\n",
    "    ratings_list.append(ratings)\r\n",
    "\r\n",
    "cleaned_reviews_list = []\r\n",
    "for review in reviews_list:\r\n",
    "    cleaned_str = \" \".join(review.split())\r\n",
    "    cleaned_reviews_list.append(cleaned_str)"
   ],
   "outputs": [],
   "metadata": {}
  },
  {
   "cell_type": "markdown",
   "source": [
    "# Load into dataframe"
   ],
   "metadata": {}
  },
  {
   "cell_type": "code",
   "execution_count": 139,
   "source": [
    "# Create the dataframe\r\n",
    "df = pd.DataFrame(list(zip(reviews_list, ratings_list, product_title)),\r\n",
    "                  columns=[\"reviews\", \"ratings\", \"product_title\"])\r\n",
    "\r\n",
    "df"
   ],
   "outputs": [
    {
     "output_type": "execute_result",
     "data": {
      "text/plain": [
       "                                              reviews  ratings  \\\n",
       "0   So many cute stickers! A good starter pack for...        5   \n",
       "1                                                            5   \n",
       "2                                                            4   \n",
       "3   I am new to the digital planning world but thi...        5   \n",
       "4             Everything I need in a teacher planner!        5   \n",
       "..                                                ...      ...   \n",
       "95  Love it, thank you! Always used paper planners...        5   \n",
       "96  The hyperlinks never worked complete waste of ...        1   \n",
       "97                                                           5   \n",
       "98                                                           5   \n",
       "99  I use this planner in GoodNotes and I am total...        5   \n",
       "\n",
       "                                        product_title  \n",
       "0   1000+ Digital Stickers Pack - Pre-cropped Good...  \n",
       "1   Digital Planner Bundle 1000+ Stickers - Goodno...  \n",
       "2   Digital Planner Bundle 1000+ Stickers - Goodno...  \n",
       "3   Black Paper Digital Planner Bundle 1000+ Stick...  \n",
       "4   Teacher Digital Planner Inserts Templates Pack...  \n",
       "..                                                ...  \n",
       "95  Digital Planner Bundle 1000+ Stickers - Goodno...  \n",
       "96  Digital Planner 2021 2022 Digital Planner Unda...  \n",
       "97  Digital Planner for Goodnotes Digital Notes An...  \n",
       "98  Digital Planner 2021 2022 Digital Planner Unda...  \n",
       "99  Digital Planner 2021 2022 Digital Planner Unda...  \n",
       "\n",
       "[100 rows x 3 columns]"
      ],
      "text/html": [
       "<div>\n",
       "<style scoped>\n",
       "    .dataframe tbody tr th:only-of-type {\n",
       "        vertical-align: middle;\n",
       "    }\n",
       "\n",
       "    .dataframe tbody tr th {\n",
       "        vertical-align: top;\n",
       "    }\n",
       "\n",
       "    .dataframe thead th {\n",
       "        text-align: right;\n",
       "    }\n",
       "</style>\n",
       "<table border=\"1\" class=\"dataframe\">\n",
       "  <thead>\n",
       "    <tr style=\"text-align: right;\">\n",
       "      <th></th>\n",
       "      <th>reviews</th>\n",
       "      <th>ratings</th>\n",
       "      <th>product_title</th>\n",
       "    </tr>\n",
       "  </thead>\n",
       "  <tbody>\n",
       "    <tr>\n",
       "      <th>0</th>\n",
       "      <td>So many cute stickers! A good starter pack for...</td>\n",
       "      <td>5</td>\n",
       "      <td>1000+ Digital Stickers Pack - Pre-cropped Good...</td>\n",
       "    </tr>\n",
       "    <tr>\n",
       "      <th>1</th>\n",
       "      <td></td>\n",
       "      <td>5</td>\n",
       "      <td>Digital Planner Bundle 1000+ Stickers - Goodno...</td>\n",
       "    </tr>\n",
       "    <tr>\n",
       "      <th>2</th>\n",
       "      <td></td>\n",
       "      <td>4</td>\n",
       "      <td>Digital Planner Bundle 1000+ Stickers - Goodno...</td>\n",
       "    </tr>\n",
       "    <tr>\n",
       "      <th>3</th>\n",
       "      <td>I am new to the digital planning world but thi...</td>\n",
       "      <td>5</td>\n",
       "      <td>Black Paper Digital Planner Bundle 1000+ Stick...</td>\n",
       "    </tr>\n",
       "    <tr>\n",
       "      <th>4</th>\n",
       "      <td>Everything I need in a teacher planner!</td>\n",
       "      <td>5</td>\n",
       "      <td>Teacher Digital Planner Inserts Templates Pack...</td>\n",
       "    </tr>\n",
       "    <tr>\n",
       "      <th>...</th>\n",
       "      <td>...</td>\n",
       "      <td>...</td>\n",
       "      <td>...</td>\n",
       "    </tr>\n",
       "    <tr>\n",
       "      <th>95</th>\n",
       "      <td>Love it, thank you! Always used paper planners...</td>\n",
       "      <td>5</td>\n",
       "      <td>Digital Planner Bundle 1000+ Stickers - Goodno...</td>\n",
       "    </tr>\n",
       "    <tr>\n",
       "      <th>96</th>\n",
       "      <td>The hyperlinks never worked complete waste of ...</td>\n",
       "      <td>1</td>\n",
       "      <td>Digital Planner 2021 2022 Digital Planner Unda...</td>\n",
       "    </tr>\n",
       "    <tr>\n",
       "      <th>97</th>\n",
       "      <td></td>\n",
       "      <td>5</td>\n",
       "      <td>Digital Planner for Goodnotes Digital Notes An...</td>\n",
       "    </tr>\n",
       "    <tr>\n",
       "      <th>98</th>\n",
       "      <td></td>\n",
       "      <td>5</td>\n",
       "      <td>Digital Planner 2021 2022 Digital Planner Unda...</td>\n",
       "    </tr>\n",
       "    <tr>\n",
       "      <th>99</th>\n",
       "      <td>I use this planner in GoodNotes and I am total...</td>\n",
       "      <td>5</td>\n",
       "      <td>Digital Planner 2021 2022 Digital Planner Unda...</td>\n",
       "    </tr>\n",
       "  </tbody>\n",
       "</table>\n",
       "<p>100 rows × 3 columns</p>\n",
       "</div>"
      ]
     },
     "metadata": {},
     "execution_count": 139
    }
   ],
   "metadata": {}
  },
  {
   "cell_type": "code",
   "execution_count": 140,
   "source": [
    "df.to_csv('Etsy_Reviews.csv', mode='a', index=False, header=False)"
   ],
   "outputs": [],
   "metadata": {}
  }
 ],
 "metadata": {
  "orig_nbformat": 4,
  "language_info": {
   "name": "python",
   "version": "3.8.10",
   "mimetype": "text/x-python",
   "codemirror_mode": {
    "name": "ipython",
    "version": 3
   },
   "pygments_lexer": "ipython3",
   "nbconvert_exporter": "python",
   "file_extension": ".py"
  },
  "kernelspec": {
   "name": "python3",
   "display_name": "Python 3.8.10 64-bit ('data-science': conda)"
  },
  "interpreter": {
   "hash": "be8fd6a5ef0ae2e6c47fc9b62ddbdd318b30a79bd01541ae3956d8af1a54988c"
  }
 },
 "nbformat": 4,
 "nbformat_minor": 2
}